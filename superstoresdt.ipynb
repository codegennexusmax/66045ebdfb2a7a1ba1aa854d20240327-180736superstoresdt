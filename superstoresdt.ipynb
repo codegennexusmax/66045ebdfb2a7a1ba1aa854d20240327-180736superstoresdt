{
 "cells": [
  {
   "cell_type": "markdown",
   "id": "860fbefd",
   "metadata": {},
   "source": [
    "***GENERATED CODE FOR superstoresdt PIPELINE.***"
   ]
  },
  {
   "cell_type": "markdown",
   "id": "105ec88b",
   "metadata": {},
   "source": [
    "***DON'T EDIT THIS CODE.***"
   ]
  },
  {
   "cell_type": "markdown",
   "id": "7971634b",
   "metadata": {},
   "source": [
    "***CONNECTOR FUNCTIONS TO READ DATA.***"
   ]
  },
  {
   "cell_type": "code",
   "execution_count": null,
   "id": "0b4d9830",
   "metadata": {},
   "outputs": [],
   "source": [
    "import os\n",
    "import datetime\n",
    "import logging\n",
    "import warnings\n",
    "warnings.filterwarnings('ignore')\n",
    "logging.basicConfig(format='%(levelname)s:%(message)s', level=logging.INFO)\n",
    "\n",
    "\n",
    "class HDFSConnector:\n",
    "\n",
    "    def fetch(spark, config):\n",
    "        ################### INPUT HADOOP HOST PORT TO CONNECT WITH ###############################\n",
    "        hdfs_server = str(os.environ['HDFS_SERVER'])\n",
    "        hdfs_port = int(os.environ['HDFS_PORT'])\n",
    "        df = spark.read.options(header='true', inferschema='true').csv(\n",
    "            f\"hdfs://{hdfs_server}:{hdfs_port}{eval(config)['url']}\", header='true')\n",
    "        display(df.limit(2).toPandas())\n",
    "        return df\n",
    "\n",
    "    def put(df, spark, config):\n",
    "        return df.write.format('csv').options(header='true' if eval(config)[\"is_header\"] == \"Use Header Line\" else 'false',\n",
    "                                              delimiter=eval(config)[\"delimiter\"]).save((\"%s %s\") % (datetime.datetime.now().strftime(\"%Y-%m-%d %H.%M.%S\")+\"_\", eval(config)['url']))\n"
   ]
  },
  {
   "cell_type": "markdown",
   "id": "13ea168c",
   "metadata": {},
   "source": [
    "***OPERATION FUNCTIONS***"
   ]
  },
  {
   "cell_type": "code",
   "execution_count": null,
   "id": "05f0bf40",
   "metadata": {},
   "outputs": [],
   "source": [
    "import pyspark\n",
    "from dask.dataframe import from_pandas\n",
    "import json\n",
    "\n",
    "\n",
    "def DateTransform(df, functionsData, applyOn=[]):\n",
    "    import dask.dataframe as dd\n",
    "    import pandas as pd\n",
    "    import numpy as np\n",
    "\n",
    "    for functiondata in functionsData:\n",
    "        functiondata = functiondata\n",
    "\n",
    "    dfcp = df\n",
    "    dfcp1 = dfcp\n",
    "    resulttype = dfcp1.select_dtypes(include=[np.datetime64])\n",
    "    for existingdatecols in resulttype.columns:\n",
    "        dfcp[existingdatecols] = dfcp[existingdatecols].apply(\n",
    "            lambda x: x.replace(tzinfo=None))\n",
    "\n",
    "    Dateformat1 = 'YYYY-DD-MM'\n",
    "    Dateformat2 = 'YY/MM/DD'\n",
    "    Dateformat3 = 'DD/MM/YYYY'\n",
    "    Dateformat4 = 'M/D/YY'\n",
    "    NotDateFromat = [Dateformat1, Dateformat2, Dateformat3, Dateformat4]\n",
    "\n",
    "    if 'inputDateFormat' in functiondata:\n",
    "        coldetail = functiondata['column']\n",
    "        for col in coldetail:\n",
    "            colname = col['columnName']\n",
    "        inputFormat = str(functiondata['inputDateFormat'])\n",
    "        functiondata['outputDateFormat']\n",
    "        functiondata['newColumn']\n",
    "    if ('newColumnName' in functiondata):\n",
    "        if inputFormat in NotDateFromat:\n",
    "            NewDateCol = functiondata['newColumnName']\n",
    "            dfcp = dfcp.compute()\n",
    "            dfcp[NewDateCol] = dfcp[colname].apply(\n",
    "                lambda x: pd.to_datetime(x, format='%d/%m/%Y', utc=False))\n",
    "            dfcp[NewDateCol] = dfcp[NewDateCol].apply(\n",
    "                lambda x: x.strftime(\"%Y-%m-%d\"))\n",
    "            dfcp[NewDateCol] = pd.to_datetime(dfcp[NewDateCol], utc=False)\n",
    "            dfcp = dd.from_pandas(dfcp, npartitions=2)\n",
    "            dfcp[NewDateCol] = dfcp[NewDateCol].apply(\n",
    "                lambda x: x.replace(tzinfo=None))\n",
    "    elif (('newColumnName' not in functiondata) and (inputFormat in NotDateFromat)):\n",
    "        dfcp = dfcp.compute()\n",
    "        dfcp[colname] = dfcp[colname].apply(\n",
    "            lambda x: pd.to_datetime(x, format='%d/%m/%Y'))\n",
    "        dfcp[colname] = dfcp[colname].apply(lambda x: x.strftime(\"%Y-%m-%d\"))\n",
    "        dfcp[colname] = pd.to_datetime(dfcp[colname], utc=False)\n",
    "        dfcp = dd.from_pandas(dfcp, npartitions=2)\n",
    "\n",
    "    return dfcp\n",
    "\n",
    "\n",
    "def runDataCleansing(sparkDf, spark, config):\n",
    "    configObj = json.loads(config)\n",
    "    sparkDf.persist(pyspark.StorageLevel.MEMORY_AND_DISK)\n",
    "    df = from_pandas((sparkDf.toPandas()), npartitions=5)\n",
    "    functionList = configObj['functionsApplied']\n",
    "    Data_Cleansing_Methods = {\"replaceBy\": replaceValues,\n",
    "                              \"formula\": calculateFormula,\n",
    "                              \"aggregate\": aggregation,\n",
    "                              \"converttostringtype\": changeToString,\n",
    "                              \"editname\": renameColumns}\n",
    "    for function in functionList:\n",
    "        function['functionName']\n",
    "        df = Data_Cleansing_Methods[function['functionName']](df, function['functionsData'],\n",
    "                                                              function['applyOn'])\n",
    "    sparkDf = spark.createDataFrame(df.compute())\n",
    "\n",
    "    display(sparkDf.limit(2).toPandas())\n",
    "    return sparkDf\n"
   ]
  },
  {
   "cell_type": "markdown",
   "id": "ba4175d4",
   "metadata": {},
   "source": [
    "***CONNECTOR FUNCTIONS TO WRITE DATA.***"
   ]
  },
  {
   "cell_type": "code",
   "execution_count": null,
   "id": "5675839f",
   "metadata": {},
   "outputs": [],
   "source": [
    "import datetime\n",
    "import requests\n",
    "import datetime\n",
    "import logging\n",
    "import warnings\n",
    "warnings.filterwarnings('ignore')\n",
    "logging.basicConfig(format='%(levelname)s:%(message)s', level=logging.INFO)\n",
    "\n",
    "\n",
    "class NumtraConnector:\n",
    "\n",
    "    def put(inStages, inStagesData, stageId, spark, config):\n",
    "        path = eval(config)['server_url']\n",
    "        baseType = eval(config)['baseType']\n",
    "        results_url = eval(config)['results_url']\n",
    "        server = eval(config)['server']\n",
    "        originalfile = eval(config)['orignalKey']\n",
    "        eval(config)['pathOnly']\n",
    "        filename = eval(config)['filename']\n",
    "        eval(config)['ser']\n",
    "        eval(config)['user']\n",
    "        eval(config)['password']\n",
    "        eval(config)['authSource']\n",
    "        eval(config)['user_id']\n",
    "        eval(config)['parent_id']\n",
    "        eval(config)['project_id']\n",
    "        time = str(int(datetime.datetime.now().timestamp()))\n",
    "\n",
    "        inStagesData[inStages[0]]\n",
    "\n",
    "        print(path)\n",
    "        print(baseType)\n",
    "        print(results_url)\n",
    "        print(server)\n",
    "        print(originalfile)\n",
    "        print(filename)\n",
    "\n",
    "        args = {\n",
    "            'url': path,\n",
    "            'baseType': baseType,\n",
    "            'originalfile': originalfile,\n",
    "            'filename': time + filename\n",
    "        }\n",
    "\n",
    "        response = requests.post(results_url, args)\n",
    "        return response\n"
   ]
  },
  {
   "cell_type": "markdown",
   "id": "02a49f1d",
   "metadata": {},
   "source": [
    "***READING DATAFRAME***"
   ]
  },
  {
   "cell_type": "code",
   "execution_count": null,
   "id": "2b19a318",
   "metadata": {},
   "outputs": [],
   "source": [
    "############## CREATE SPARK SESSION ############################ ENTER YOUR SPARK MASTER IP AND PORT TO CONNECT TO SERVER ################\n",
    "from pyspark.sql import SparkSession\n",
    "spark = SparkSession.builder.master('local[1]').getOrCreate()\n",
    "#%run superstoresdtHooks.ipynb\n",
    "try:\n",
    "\t#sourcePreExecutionHook()\n",
    "\n",
    "\tsuperstoresaletrainraw = HDFSConnector.fetch(spark, \"{'url': '/FileStore/platform/testdata/1711562415145_SuperStoreSales_TrainRaw.csv', 'filename': 'SuperStoreSales_TrainRaw.csv', 'delimiter': ',', 'file_type': 'Delimeted', 'dbfs_token': '', 'dbfs_domain': '', 'FilePath': '/SampleSolutions/SuperStoresTS/DataTransformation/SuperStoreSales_TrainRaw.csv', 'viewFileName': 'SuperStoreSales_TrainRaw.csv', 'is_header': 'Use Header Line', 'baseType': 'hdfs', 'server_url': '/nexusMax/NexusMaxPlatform/uploads/platform/', 'results_url': 'http://dnm.bfirst.ai:44040/api/read/hdfs'}\")\n",
    "\n",
    "except Exception as ex: \n",
    "\tlogging.error(ex)\n",
    "#spark.stop()\n"
   ]
  },
  {
   "cell_type": "markdown",
   "id": "3436cff5",
   "metadata": {},
   "source": [
    "***PERFORMING OPERATIONS***"
   ]
  },
  {
   "cell_type": "code",
   "execution_count": null,
   "id": "bf1fd0e3",
   "metadata": {},
   "outputs": [],
   "source": [
    "#%run superstoresdtHooks.ipynb\n",
    "try:\n",
    "\t#operationPreExecutionHook()\n",
    "\n",
    "datapreparation = runDataCleansing(superstoresaletrainraw,spark,json.dumps( {\"url\": \"/FileStore/platform/testdata/1711562415145_SuperStoreSales_TrainRaw.csv\", \"source_attributes\": {}, \"DataPrepFile\": \"/FileStore/platform/testdata/1711562415145_SuperStoreSales_TrainRaw.csv\", \"data_source\": \"platfiles\", \"startListenerOnly\": 1, \"dateColumnNames\": [\"Order Date\"], \"FilePath\": \"/FileStore/platform/extra/66045ec9fb2a7a1ba1aa85631711562768/0part.csv\", \"requestRatio\": 20.0, \"totalRows\": 9800, \"BasicStats\": {\"missingValues\": 0.0, \"numberOfColumns\": 11, \"numberOfRows\": 9800, \"duplicateRowCount\": 2, \"stats\": [{\"column\": \"Order Date\", \"alias\": \"Order Date\", \"generated\": 0, \"type\": \"date\", \"max\": \"20181230\", \"min\": \"201512\", \"mean\": \"\", \"missing\": 0.0, \"stddev\": \"\", \"outliers\": [], \"validation\": []}, {\"column\": \"Sales\", \"alias\": \"Sales\", \"generated\": 0, \"type\": \"real\", \"max\": 22638.48, \"min\": 0.444, \"mean\": 230.7690594591837, \"missing\": 0.0, \"stddev\": 626.65, \"outliers\": [731.94, 957.5775, 907.152, 1706.184, 911.424, 665.88, 1044.63, 3083.43, 1097.544, 532.3992, 1029.95, 1113.024, 831.936, 787.53, 600.558, 617.7, 839.43, 671.93, 1951.84, 457.568, 944.93, 8159.952, 1740.06, 503.96, 899.136, 626.352, 1188.0, 479.988, 622.45, 620.6145, 617.976, 2001.86, 1503.25, 3347.37, 647.904, 3059.982, 2519.958, 725.84, 1114.4, 1038.84, 961.48, 1082.48, 466.768, 3991.98, 786.744, 959.984, 698.352, 509.97, 4355.168, 647.84, 488.646, 1043.92, 1023.936, 479.04, 1488.424, 482.34, 1799.97, 2396.2656, 1199.976, 1004.024, 1336.829, 866.4, 714.3, 1007.979, 665.408, 747.558, 899.91, 1272.63, 703.968, 704.25, 514.165, 2735.952, 801.568, 6354.95, 2999.95, 1126.02, 683.952, 666.248, 979.95, 468.9, 646.776, 1121.568, 1295.78, 1335.68, 470.376, 1199.976, 494.376, 728.946, 555.21, 523.48, 1049.2, 701.372, 999.432, 724.08, 918.785, 459.95, 7999.98, 479.97, 883.92, 1652.94, 542.646, 567.12, 1199.976, 646.74, 572.58, 641.96, 544.008, 1363.96, 1983.968, 1298.55, 1399.93, 1228.465, 1141.47, 1242.9, 543.92, 1199.8, 1928.78, 797.944, 841.568, 1114.272, 540.57, 516.488, 1007.232, 2065.32, 501.81, 3059.982, 599.292, 559.984, 603.92, 520.05, 1166.92, 2715.93, 617.97, 2309.65, 1090.782, 484.65, 1618.37, 601.65, 1267.53, 1379.92, 854.94, 697.16, 722.352, 1363.96, 1113.504, 1106.91, 836.592, 4899.93, 619.95, 699.93, 1067.94, 686.32, 644.076, 599.98, 2244.48, 1322.93, 485.88, 889.536, 892.224, 1088.792, 544.008, 854.352, 593.568, 579.136, 1931.958, 839.988, 764.688, 3610.848, 1141.938, 1704.56, 1099.96, 540.048, 863.88, 845.728, 572.76, 579.3, 575.92, 552.56, 677.58, 695.7, 899.136, 590.058, 912.75, 1089.75, 484.83, 652.45, 946.344, 1819.86, 2453.43, 1979.928, 470.302, 3040.0, 1024.716, 872.94, 1212.848, 977.292, 540.048, 1004.976, 1669.6, 782.94, 1573.488, 559.992, 1044.63, 603.92, 763.28, 1217.568, 979.95, 547.3, 1000.02, 786.48, 675.96, 1265.85, 523.25, 517.5, 1006.056, 669.08, 1247.64, 3149.93, 677.58, 1018.104, 853.092, 515.88, 1931.04, 1702.12, 765.625, 1048.35, 559.62, 1718.4, 497.61, 699.98, 2807.84, 4663.736, 2575.944, 1441.3, 1127.976, 779.796, 1439.92, 1439.982, 1245.86, 831.2, 727.45, 801.568, 470.376, 563.4, 487.984, 1793.98, 505.176, 478.48, 909.12, 597.132, 895.92, 462.564, 863.64, 659.976, 662.88, 1282.41, 1394.95, 545.88, 933.536, 479.96, 1439.976, 1024.38, 900.08, 1606.23, 872.32, 597.0, 1586.69, 710.832, 761.544, 479.9, 511.84, 636.408, 1295.84, 895.92, 991.764, 501.81, 3999.95, 1454.49, 881.93, 832.93, 1145.6, 485.94, 673.568, 526.45, 1016.792, 494.982, 659.976, 541.44, 1212.96, 499.98, 1119.984, 614.272, 892.98, 595.38, 1399.93, 503.96, 723.92, 547.136, 490.32, 557.585, 1552.831, 1579.746, 1071.576, 613.908, 532.704, 479.984, 1619.91, 628.81, 956.6648, 1115.91, 629.064, 754.45, 595.0, 2396.4, 826.11, 545.85, 662.84, 492.835, 571.44, 1101.48, 1322.352, 1003.62, 1137.75, 631.96, 4548.81, 719.96, 647.84, 8187.65, 479.94, 1117.92, 604.656, 868.59, 1801.632, 1348.704, 700.152, 1879.96, 821.88, 705.544, 1406.86, 2665.62, 478.08, 1399.944, 526.45, 675.12, 489.92, 601.47, 914.97, 587.97, 530.34, 1349.85, 1218.735, 11199.968, 2399.6, 652.995, 858.24, 821.88, 1292.94, 883.84, 1979.89, 785.88, 1325.85, 619.95, 821.3, 22638.48, 1919.976, 629.958, 799.96, 477.24, 700.056, 585.552, 783.96, 1447.65, 481.32, 1924.16, 601.536, 1075.088, 783.96, 704.9, 561.568, 999.96, 653.55, 1088.76, 695.7, 1139.92, 845.488, 762.594, 2690.97, 1603.136, 1628.82, 811.28, 1013.488, 959.968, 479.984, 539.658, 1633.188, 1526.56, 671.984, 499.584, 545.94, 1267.65, 895.92, 904.9, 2549.985, 727.296, 666.4, 504.9, 2054.272, 1022.97, 517.9, 2799.96, 663.936, 2934.33, 981.372, 539.97, 671.93, 479.95, 695.16, 837.6, 532.704, 1123.92, 1036.624, 563.808, 627.168, 963.136, 2025.36, 1799.994, 735.98, 528.43, 826.62, 1633.14, 544.38, 601.536, 931.176, 733.95, 3359.952, 4164.05, 494.376, 1704.89, 1919.976, 539.964, 603.92, 662.88, 896.99, 568.728, 1287.45, 1799.75, 580.672, 1091.168, 629.1, 558.4, 1408.1, 2504.74, 471.92, 538.194, 492.768, 1421.664, 579.95, 1202.94, 655.9, 603.92, 513.024, 487.92, 900.08, 509.488, 825.174, 569.536, 796.425, 657.552, 599.97, 844.116, 812.736, 604.752, 1577.94, 2395.2, 1687.8, 2430.08, 801.96, 1169.694, 1665.62, 1443.96, 465.18, 657.93, 718.116, 487.984, 681.408, 2060.744, 763.44, 487.984, 638.73, 464.97, 899.97, 510.24, 603.92, 551.985, 636.86, 499.99, 1259.93, 879.984, 841.568, 563.43, 1013.832, 2003.52, 665.88, 720.064, 1085.42, 523.764, 1359.96, 523.92, 823.96, 801.96, 1056.86, 991.2, 879.984, 1458.65, 476.8, 1049.97, 611.058, 911.984, 674.352, 480.74, 616.998, 501.81, 691.96, 823.96, 480.96, 842.352, 659.9, 1684.752, 559.92, 563.808, 547.136, 470.376, 801.6, 1424.9, 835.17, 2799.96, 2591.56, 512.94, 860.93, 769.95, 637.896, 474.43, 542.94, 853.93, 556.665, 479.97, 767.952, 599.9, 1801.632, 646.2, 572.16, 978.84, 999.98, 821.94, 638.82, 3080.0, 587.97, 9449.95, 1219.96, 2624.985, 1575.14, 539.97, 671.94, 629.95, 10499.97, 696.42, 799.984, 1604.9, 482.664, 4799.984, 1049.2, 751.92, 887.103, 863.128, 956.6648, 871.4, 692.472, 9099.93, 1103.97, 896.328, 4367.896, 666.344, 573.728, 544.38, 657.504, 631.782, 1598.058, 520.464, 704.76, 1487.04, 913.43, 1259.97, 901.95, 971.5, 617.97, 575.92, 478.24, 1805.88, 842.94, 965.85, 1279.165, 1332.496, 659.988, 909.72, 917.9235, 631.176, 818.376, 1347.52, 493.92, 537.544, 659.168, 479.984, 657.93, 590.352, 902.712, 535.41, 589.9, 542.94, 2879.952, 586.398, 1599.92, 579.136, 558.4, 844.116, 623.4648, 772.68, 635.96, 863.928, 546.66, 895.92, 521.96, 947.17, 671.544, 1117.92, 658.746, 837.6, 783.96, 742.336, 683.144, 1199.976, 463.248, 975.92, 485.88, 464.85, 1793.98, 758.352, 2404.704, 563.024, 975.92, 2249.91, 1126.02, 1263.3, 1117.92, 481.32, 674.058, 629.1, 897.15, 1325.85, 1268.82, 467.04, 717.12, 773.94, 1325.76, 689.408, 1889.99, 714.3, 2321.9, 791.964, 1502.376, 772.47, 772.47, 461.97, 687.4, 653.55, 716.0, 467.46, 720.76, 1352.3976, 699.98, 584.82, 1781.682, 549.99, 744.1, 466.158, 629.93, 464.292, 2799.96, 601.3, 1317.492, 842.376, 1214.85, 1001.584, 569.058, 1367.84, 563.94, 535.41, 3504.9, 1801.632, 748.752, 1516.2, 3930.072, 465.18, 498.26, 706.86, 697.16, 605.34, 715.2, 966.7, 543.92, 2275.5, 1979.7, 1525.188, 2314.116, 899.95, 725.84, 720.76, 545.916, 1025.88, 556.665, 1649.95, 599.165, 1640.7, 588.784, 1478.272, 585.552, 750.68, 664.146, 859.2, 1319.96, 2479.96, 455.97, 1325.85, 2999.95, 959.984, 546.06, 590.352, 659.9, 843.9, 1496.16, 1040.8, 499.95, 2348.82, 815.292, 1256.22, 1325.76, 572.16, 1194.165, 511.056, 1049.93, 542.94, 2799.944, 619.95, 899.91, 946.344, 1089.75, 459.92, 638.82, 532.72, 795.48, 866.4, 1999.96, 481.32, 542.94, 1448.82, 1158.12, 599.99, 638.288, 1395.54, 575.968, 1487.976, 581.96, 519.96, 777.21, 715.64, 795.51, 549.99, 1133.35, 1603.136, 1293.488, 801.568, 885.528, 4912.59, 4228.704, 2003.92, 659.9, 1099.5, 1215.92, 683.988, 527.92, 521.96, 676.55, 770.352, 575.928, 552.0, 504.9, 2357.488, 458.43, 2548.56, 4158.912, 646.272, 859.2, 506.28, 692.94, 1345.485, 1199.96, 518.272, 468.9, 2888.127, 1299.66, 2254.41, 1474.802, 1537.074, 2279.96, 767.214, 1198.33, 772.68, 838.38, 1690.04, 629.95, 887.84, 799.56, 1439.968, 563.92, 2793.528, 1000.02, 1471.96, 465.16, 1159.056, 563.24, 661.176, 502.488, 915.136, 701.96, 1737.18, 704.25, 650.352, 629.184, 579.51, 5199.96, 587.97, 1039.992, 561.584, 824.95, 569.568, 899.43, 8399.976, 945.036, 477.15, 974.988, 589.41, 2079.4, 629.95, 871.8, 503.96, 962.08, 539.964, 1247.64, 529.9, 5443.96, 1999.96, 2152.776, 4007.84, 634.116, 505.32, 1522.638, 872.32, 563.4, 1049.44, 1007.944, 484.704, 469.95, 4164.05, 6999.96, 698.352, 1747.25, 627.168, 1421.664, 564.195, 1117.92, 477.51, 519.68, 883.84, 643.136, 579.51, 479.952, 629.95, 512.96, 1362.9, 3266.376, 17499.95, 735.98, 1640.7, 1059.12, 478.48, 1565.88, 494.97, 2887.056, 1652.94, 2003.92, 1913.4, 2567.84, 602.651, 559.93, 2399.96, 1001.584, 1403.92, 491.55, 681.408, 862.344, 479.72, 713.88, 623.96, 523.92, 479.988, 503.96, 824.97, 471.92, 621.76, 1158.12, 598.458, 587.97, 523.392, 479.984, 599.97, 892.136, 1261.33, 472.518, 1012.68, 1626.192, 479.952, 760.116, 459.88, 1685.88, 1879.96, 828.6, 776.85, 971.88, 717.72, 2399.96, 908.82, 674.352, 1350.12, 756.8, 1319.8, 465.16, 4416.174, 989.97, 629.1, 799.92, 2541.98, 599.985, 559.71, 649.0, 890.841, 979.95, 1279.968, 1856.19, 843.9, 721.875, 523.764, 1336.44, 866.646, 795.408, 509.9575, 722.352, 539.91, 552.56, 1415.76, 1036.624, 569.64, 1196.86, 523.26, 639.968, 538.92, 1499.95, 2573.82, 609.98, 755.96, 2249.91, 1053.164, 512.19, 470.376, 1889.946, 1399.98, 1487.04, 931.176, 483.136, 508.704, 906.68, 719.952, 755.944, 833.94, 497.94, 533.94, 591.32, 563.94, 2625.12, 3499.93, 887.271, 1297.368, 679.96, 539.92, 725.344, 850.5, 1207.84, 703.71, 892.224, 1299.99, 1352.032, 1548.99, 5399.91, 1687.8, 605.88, 3812.97, 625.99, 1568.61, 872.94, 1199.98, 526.582, 479.97, 566.97, 467.97, 1779.9, 1039.728, 456.588, 4499.985, 876.3, 469.99, 720.064, 550.431, 1497.666, 4535.976, 592.74, 508.768, 479.92, 1184.72, 1871.88, 464.0, 915.136, 1614.582, 715.64, 3404.5, 569.99, 2518.29, 540.57, 861.76, 519.792, 659.97, 1673.184, 541.24, 1323.9, 663.92, 657.93, 772.68, 572.58, 706.86, 892.35, 728.82, 718.64, 3357.6, 2973.32, 775.728, 526.344, 1079.976, 670.752, 535.41, 562.2925, 557.728, 471.9, 13999.96, 595.0, 512.499, 863.128, 2036.86, 474.95, 999.98, 1252.704, 549.98, 4643.8, 577.764, 1369.764, 1266.86, 933.262, 2803.92, 806.336, 743.988, 2003.168, 2563.056, 1085.42, 675.06, 600.53, 637.44, 1649.95, 486.368, 2939.93, 512.358, 498.0, 913.43, 751.984, 604.768, 902.712, 901.95, 630.024, 933.408, 2154.9, 637.896, 1679.96, 1554.936, 2678.94, 1035.8, 8749.95, 479.976, 479.97, 496.86, 479.984, 719.976, 1056.86, 1454.9, 968.744, 479.984, 998.85, 607.52, 1287.45, 499.168, 475.944, 479.97, 481.176, 1369.764, 826.0, 760.98, 704.76, 723.92, 619.152, 600.558, 517.405, 2104.55, 2239.936, 626.352, 1287.45, 535.41, 3050.376, 1270.99, 942.784, 528.43, 1227.9984, 1128.39, 698.352, 537.544, 583.8, 1294.75, 1799.97, 959.984, 1217.568, 617.976, 5083.96, 493.43, 686.4, 541.24, 480.0, 629.64, 1927.59, 2676.672, 489.23, 494.97, 856.656, 1439.968, 626.1, 609.98, 1119.888, 934.956, 853.93, 756.8, 470.155, 4899.93, 1875.258, 458.43, 487.96, 1793.98, 9892.74, 479.97, 2621.322, 1115.17, 828.84, 482.94, 791.88, 623.96, 887.271, 555.96, 475.944, 1123.128, 1564.29, 680.01, 4476.8, 1112.94, 707.88, 1473.1, 663.072, 1432.0, 1504.52, 946.764, 1091.168, 568.728, 881.93, 4305.552, 631.96, 1577.94, 457.485, 1079.316, 769.184, 594.816, 455.712, 859.2, 455.97, 899.43, 842.72, 520.464, 1676.88, 542.94, 582.336, 629.95, 631.782, 801.568, 1349.91, 1591.02, 574.91, 1071.0, 2803.92, 604.752, 3785.292, 1212.96, 1099.96, 477.3, 701.96, 781.864, 673.344, 572.8, 2022.272, 1592.85, 1091.93, 689.82, 1649.75, 477.666, 577.584, 1125.488, 1079.85, 589.41, 2033.584, 899.982, 1628.82, 730.2, 4297.644, 481.568, 3406.664, 595.38, 579.528, 3023.928, 477.6, 1499.97, 668.16, 503.96, 613.9992, 470.36, 491.55, 849.95, 1080.096, 979.95, 807.75, 500.24, 896.99, 4404.9, 797.944, 1403.92, 2177.584, 673.568, 1023.332, 600.558], \"validation\": []}, {\"column\": \"Ship Mode\", \"alias\": \"Ship Mode\", \"generated\": 0, \"type\": \"String\", \"max\": \"Standard Class\", \"min\": \"First Class\", \"mean\": \"\", \"missing\": 0.0, \"stddev\": \"\", \"outliers\": [], \"validation\": []}, {\"column\": \"Customer Name\", \"alias\": \"Customer Name\", \"generated\": 0, \"type\": \"String\", \"max\": \"Zuschuss Donatelli\", \"min\": \"Aaron Bergman\", \"mean\": \"\", \"missing\": 0.0, \"stddev\": \"\", \"outliers\": [], \"validation\": []}, {\"column\": \"Segment\", \"alias\": \"Segment\", \"generated\": 0, \"type\": \"String\", \"max\": \"Home Office\", \"min\": \"Consumer\", \"mean\": \"\", \"missing\": 0.0, \"stddev\": \"\", \"outliers\": [], \"validation\": []}, {\"column\": \"City\", \"alias\": \"City\", \"generated\": 0, \"type\": \"String\", \"max\": \"Yuma\", \"min\": \"Aberdeen\", \"mean\": \"\", \"missing\": 0.0, \"stddev\": \"\", \"outliers\": [], \"validation\": []}, {\"column\": \"State\", \"alias\": \"State\", \"generated\": 0, \"type\": \"String\", \"max\": \"Wyoming\", \"min\": \"Alabama\", \"mean\": \"\", \"missing\": 0.0, \"stddev\": \"\", \"outliers\": [], \"validation\": []}, {\"column\": \"Region\", \"alias\": \"Region\", \"generated\": 0, \"type\": \"String\", \"max\": \"West\", \"min\": \"Central\", \"mean\": \"\", \"missing\": 0.0, \"stddev\": \"\", \"outliers\": [], \"validation\": []}, {\"column\": \"Category\", \"alias\": \"Category\", \"generated\": 0, \"type\": \"String\", \"max\": \"Technology\", \"min\": \"Furniture\", \"mean\": \"\", \"missing\": 0.0, \"stddev\": \"\", \"outliers\": [], \"validation\": []}, {\"column\": \"Sub-Category\", \"alias\": \"Sub-Category\", \"generated\": 0, \"type\": \"String\", \"max\": \"Tables\", \"min\": \"Accessories\", \"mean\": \"\", \"missing\": 0.0, \"stddev\": \"\", \"outliers\": [], \"validation\": []}, {\"column\": \"OrderDateNew\", \"alias\": \"OrderDateNew\", \"generated\": 1, \"type\": \"date\", \"max\": \"20181230\", \"min\": \"201512\", \"mean\": \"\", \"missing\": 0.0, \"stddev\": \"\", \"outliers\": [], \"validation\": []}]}, \"predictionPowerScore\": [{\"Category\": 1.0, \"City\": 0.0261175035, \"Customer Name\": 0.0, \"Order Date\": 0.0249044043, \"OrderDateNew\": 0.0249044043, \"Region\": 1.426e-07, \"Sales\": 0.3373462465, \"Segment\": 1.426e-07, \"Ship Mode\": 1.426e-07, \"State\": 0.0043294701, \"Sub-Category\": 1.0}, {\"Category\": 0.0, \"City\": 1.0, \"Customer Name\": 0.1603684775, \"Order Date\": 0.211217435, \"OrderDateNew\": 0.211217435, \"Region\": 0.0616661938, \"Sales\": 0.0111818773, \"Segment\": 0.0, \"Ship Mode\": 0.0, \"State\": 0.3253974461, \"Sub-Category\": 0.0}, {\"Category\": 0.0, \"City\": 0.0861746945, \"Customer Name\": 1.0, \"Order Date\": 0.200623051, \"OrderDateNew\": 0.200623051, \"Region\": 0.0, \"Sales\": 0.0, \"Segment\": 0.0, \"Ship Mode\": 0.0, \"State\": 0.0052740174, \"Sub-Category\": 0.0}, {\"Category\": 0.0, \"City\": 0.0, \"Customer Name\": 0.0, \"Order Date\": 1.0, \"OrderDateNew\": 0.0, \"Region\": 0.0, \"Sales\": 0.0, \"Segment\": 0.0, \"Ship Mode\": 0.0, \"State\": 0.0, \"Sub-Category\": 0.0}, {\"Category\": 0.0, \"City\": 0.0, \"Customer Name\": 0.0, \"Order Date\": 0.0, \"OrderDateNew\": 1.0, \"Region\": 0.0, \"Sales\": 0.0, \"Segment\": 0.0, \"Ship Mode\": 0.0, \"State\": 0.0, \"Sub-Category\": 0.0}, {\"Category\": 0.0, \"City\": 0.8632491112, \"Customer Name\": 0.1705388382, \"Order Date\": 0.2194193265, \"OrderDateNew\": 0.2194193265, \"Region\": 1.0, \"Sales\": 0.0043183988, \"Segment\": 0.0, \"Ship Mode\": 0.0, \"State\": 0.9997249168, \"Sub-Category\": 0.0}, {\"Category\": 0.0, \"City\": 0.0, \"Customer Name\": 0.0, \"Order Date\": 0.0, \"OrderDateNew\": 0.0, \"Region\": 0.0, \"Sales\": 1.0, \"Segment\": 0.0, \"Ship Mode\": 0.0, \"State\": 0.0, \"Sub-Category\": 0.0}, {\"Category\": 0.0, \"City\": 0.1157991539, \"Customer Name\": 0.9839683921, \"Order Date\": 0.2479881122, \"OrderDateNew\": 0.2479881122, \"Region\": 0.0, \"Sales\": 0.0, \"Segment\": 1.0, \"Ship Mode\": 0.0, \"State\": 0.0, \"Sub-Category\": 0.0}, {\"Category\": 1.067e-07, \"City\": 0.1204219808, \"Customer Name\": 0.180033957, \"Order Date\": 0.1957942701, \"OrderDateNew\": 0.1957942701, \"Region\": 1.067e-07, \"Sales\": 0.0, \"Segment\": 1.067e-07, \"Ship Mode\": 1.0, \"State\": 0.011132586, \"Sub-Category\": 1.067e-07}, {\"Category\": 0.0, \"City\": 0.8527529215, \"Customer Name\": 0.1698985245, \"Order Date\": 0.2211333305, \"OrderDateNew\": 0.2211333305, \"Region\": 0.2276380343, \"Sales\": 0.0314748801, \"Segment\": 0.0, \"Ship Mode\": 0.0, \"State\": 1.0, \"Sub-Category\": 0.0}, {\"Category\": 0.0964469095, \"City\": 0.0, \"Customer Name\": 0.0, \"Order Date\": 0.0044866898, \"OrderDateNew\": 0.0044866898, \"Region\": 0.0, \"Sales\": 0.2660735364, \"Segment\": 0.0, \"Ship Mode\": 0.0, \"State\": 0.0, \"Sub-Category\": 1.0}], \"HasBasicStats\": 1, \"functionsApplied\": [{\"functionName\": \"transformDate\", \"applyOn\": [{\"columnName\": \"Order Date\", \"type\": \"date\", \"min\": \"201512\", \"max\": \"20181230\", \"mean\": \"-\"}], \"functionsData\": [{\"column\": [{\"columnName\": \"Order Date\", \"type\": \"date\", \"min\": \"201512\", \"max\": \"20181230\", \"mean\": \"-\"}], \"inputDateFormat\": \"DD/MM/YYYY\", \"outputDateFormat\": \"YYYY-MM-DD\", \"newColumn\": \"True\", \"newColumnName\": \"OrderDateNew\"}]}], \"functionChanges\": [{\"columnName\": \"Order Date\", \"functionName\": \"transformDate\", \"Type\": \"date\", \"Parameters\": [{\"column\": [{\"columnName\": \"Order Date\", \"type\": \"date\", \"min\": \"201512\", \"max\": \"20181230\", \"mean\": \"-\"}], \"inputDateFormat\": \"DD/MM/YYYY\", \"outputDateFormat\": \"YYYY-MM-DD\", \"newColumn\": \"True\", \"newColumnName\": \"OrderDateNew\"}]}], \"fileheader\": [{\"field\": \"Order Date\", \"alias\": \"Order Date\", \"generated\": 0, \"position\": 1, \"type\": \"date\"}, {\"field\": \"Sales\", \"alias\": \"Sales\", \"generated\": 0, \"position\": 2, \"type\": \"real\"}, {\"field\": \"Ship Mode\", \"alias\": \"Ship Mode\", \"generated\": 0, \"position\": 3, \"type\": \"String\"}, {\"field\": \"Customer Name\", \"alias\": \"Customer Name\", \"generated\": 0, \"position\": 4, \"type\": \"String\"}, {\"field\": \"Segment\", \"alias\": \"Segment\", \"generated\": 0, \"position\": 5, \"type\": \"String\"}, {\"field\": \"City\", \"alias\": \"City\", \"generated\": 0, \"position\": 6, \"type\": \"String\"}, {\"field\": \"State\", \"alias\": \"State\", \"generated\": 0, \"position\": 7, \"type\": \"String\"}, {\"field\": \"Region\", \"alias\": \"Region\", \"generated\": 0, \"position\": 8, \"type\": \"String\"}, {\"field\": \"Category\", \"alias\": \"Category\", \"generated\": 0, \"position\": 9, \"type\": \"String\"}, {\"field\": \"Sub-Category\", \"alias\": \"Sub-Category\", \"generated\": 0, \"position\": 10, \"type\": \"String\"}, {\"field\": \"OrderDateNew\", \"alias\": \"OrderDateNew\", \"generated\": 1, \"position\": 11, \"type\": \"date\"}]}))\n",
    "\t#operationPostExecutionHook(datapreparation)\n",
    "\n",
    "except Exception as ex: \n",
    "\tlogging.error(ex)\n"
   ]
  },
  {
   "cell_type": "markdown",
   "id": "8486a6b2",
   "metadata": {},
   "source": [
    "***WRITING DATAFRAME***"
   ]
  },
  {
   "cell_type": "code",
   "execution_count": null,
   "id": "c952706f",
   "metadata": {},
   "outputs": [],
   "source": [
    "#%run superstoresdtHooks.ipynb\n",
    "try:\n",
    "\t#sinkPreExecutionHook()\n",
    "\n",
    "\tdatatransformationoutput = NumtraConnector.fetch(spark, \"{'samplefile': '/FileStore/platform/sampleData/66045ec6fb2a7a1ba1aa855f/part-00000-c8088947-48b3-4f66-a41c-5bfb909ac323-c000.csv', 'samplecount': 964, 'originalcount': 9800, 'orignalKey': '/FileStore/platform/testdata/1711562415145_SuperStoreSales_TrainRaw.csv', 'pathOnly': '/SampleSolutions/SuperStoresTS/DataTransformation', 'project_id': '66045e77fb2a7a1ba1aa853a', 'parent_id': '66045e77fb2a7a1ba1aa853a', 'original_schema': [{'checked': True, 'inherited': True, 'is_categorical': False, 'bad_values': '', 'nullable': 'true', 'field': 'Order Date', 'alias': 'Order Date', 'type': 'date', 'position': '0'}, {'checked': True, 'inherited': True, 'is_categorical': False, 'bad_values': '', 'nullable': 'true', 'field': 'Sales', 'alias': 'Sales', 'type': 'real', 'position': '1'}, {'checked': True, 'inherited': True, 'is_categorical': False, 'bad_values': '', 'nullable': 'true', 'field': 'Ship Mode', 'alias': 'Ship Mode', 'type': 'String', 'position': '2'}, {'checked': True, 'inherited': True, 'is_categorical': False, 'bad_values': '', 'nullable': 'true', 'field': 'Customer Name', 'alias': 'Customer Name', 'type': 'String', 'position': '3'}, {'checked': True, 'inherited': True, 'is_categorical': False, 'bad_values': '', 'nullable': 'true', 'field': 'Segment', 'alias': 'Segment', 'type': 'String', 'position': '4'}, {'checked': True, 'inherited': True, 'is_categorical': False, 'bad_values': '', 'nullable': 'true', 'field': 'City', 'alias': 'City', 'type': 'String', 'position': '5'}, {'checked': True, 'inherited': True, 'is_categorical': False, 'bad_values': '', 'nullable': 'true', 'field': 'State', 'alias': 'State', 'type': 'String', 'position': '6'}, {'checked': True, 'inherited': True, 'is_categorical': False, 'bad_values': '', 'nullable': 'true', 'field': 'Region', 'alias': 'Region', 'type': 'String', 'position': '7'}, {'checked': True, 'inherited': True, 'is_categorical': False, 'bad_values': '', 'nullable': 'true', 'field': 'Category', 'alias': 'Category', 'type': 'String', 'position': '8'}, {'checked': True, 'inherited': True, 'is_categorical': False, 'bad_values': '', 'nullable': 'true', 'field': 'Sub-Category', 'alias': 'Sub-Category', 'type': 'String', 'position': '9'}, {'checked': True, 'inherited': True, 'is_categorical': False, 'bad_values': '', 'nullable': 'true', 'field': 'OrderDateNew', 'alias': 'OrderDateNew', 'type': 'date', 'position': '11'}], 'actual_schema': [{'checked': True, 'inherited': True, 'is_categorical': False, 'bad_values': '', 'nullable': 'true', 'field': 'Order Date', 'alias': 'Order Date', 'type': 'date', 'position': '0'}, {'checked': True, 'inherited': True, 'is_categorical': False, 'bad_values': '', 'nullable': 'true', 'field': 'Sales', 'alias': 'Sales', 'type': 'real', 'position': '1'}, {'checked': True, 'inherited': True, 'is_categorical': False, 'bad_values': '', 'nullable': 'true', 'field': 'Ship Mode', 'alias': 'Ship Mode', 'type': 'String', 'position': '2'}, {'checked': True, 'inherited': True, 'is_categorical': False, 'bad_values': '', 'nullable': 'true', 'field': 'Customer Name', 'alias': 'Customer Name', 'type': 'String', 'position': '3'}, {'checked': True, 'inherited': True, 'is_categorical': False, 'bad_values': '', 'nullable': 'true', 'field': 'Segment', 'alias': 'Segment', 'type': 'String', 'position': '4'}, {'checked': True, 'inherited': True, 'is_categorical': False, 'bad_values': '', 'nullable': 'true', 'field': 'City', 'alias': 'City', 'type': 'String', 'position': '5'}, {'checked': True, 'inherited': True, 'is_categorical': False, 'bad_values': '', 'nullable': 'true', 'field': 'State', 'alias': 'State', 'type': 'String', 'position': '6'}, {'checked': True, 'inherited': True, 'is_categorical': False, 'bad_values': '', 'nullable': 'true', 'field': 'Region', 'alias': 'Region', 'type': 'String', 'position': '7'}, {'checked': True, 'inherited': True, 'is_categorical': False, 'bad_values': '', 'nullable': 'true', 'field': 'Category', 'alias': 'Category', 'type': 'String', 'position': '8'}, {'checked': True, 'inherited': True, 'is_categorical': False, 'bad_values': '', 'nullable': 'true', 'field': 'Sub-Category', 'alias': 'Sub-Category', 'type': 'String', 'position': '9'}], 'server': 'https://dnm.bfirst.ai:443', 'server_url': '/nexusMax/NexusMaxPlatform/uploads/platform/', 'delimiter': ',', 'file_type': 'Delimeted', 'filename': 'SuperStoresSalesTransf.csv', 'token': '', 'domain': '', 'is_header': 'Use Header Line', 'url': '/FileStore/platform/uploadedSourceFiles/part-00000-234efe19-6d29-4eb3-829e-b4886d7266a3-c000.csv', 'results_url': 'http://dnm.bfirst.ai:44040/api/read/hdfs'}\")\n",
    "\n",
    "except Exception as ex: \n",
    "\tlogging.error(ex)\n"
   ]
  }
 ],
 "metadata": {},
 "nbformat": 4,
 "nbformat_minor": 5
}
